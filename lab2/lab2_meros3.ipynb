{
 "cells": [
  {
   "cell_type": "code",
   "execution_count": 9,
   "id": "4706ad13",
   "metadata": {},
   "outputs": [],
   "source": [
    "import numpy as np\n",
    "import cv2\n",
    "import sys\n",
    "import matplotlib.pyplot as plt"
   ]
  },
  {
   "cell_type": "code",
   "execution_count": 10,
   "id": "b390b42a",
   "metadata": {},
   "outputs": [],
   "source": [
    "up1_source = 'cv22_lab2_material/part3 - ImageStitching/1.jpg'\n",
    "up2_source = 'cv22_lab2_material/part3 - ImageStitching/2.jpg'\n",
    "up3_source = 'cv22_lab2_material/part3 - ImageStitching/3.jpg'\n",
    "down1_source = 'cv22_lab2_material/part3 - ImageStitching/4.jpg'\n",
    "down2_source = 'cv22_lab2_material/part3 - ImageStitching/5.jpg'\n",
    "down3_source = 'cv22_lab2_material/part3 - ImageStitching/6.jpg'"
   ]
  },
  {
   "cell_type": "markdown",
   "id": "403f2278",
   "metadata": {},
   "source": [
    "Step 0"
   ]
  },
  {
   "cell_type": "code",
   "execution_count": 11,
   "id": "ed276277",
   "metadata": {},
   "outputs": [],
   "source": [
    "img_ = cv2.imread('cv22_lab2_material/part3 - ImageStitching/1.jpg')\n",
    "img_ = cv2.resize(img_, (0,0), fx=1, fy=1)\n",
    "img1 = cv2.cvtColor(img_,cv2.COLOR_BGR2GRAY)\n",
    "\n",
    "img = cv2.imread('cv22_lab2_material/part3 - ImageStitching/2.jpg')\n",
    "img = cv2.resize(img, (0,0), fx=1, fy=1)\n",
    "img2 = cv2.cvtColor(img,cv2.COLOR_BGR2GRAY)"
   ]
  },
  {
   "cell_type": "markdown",
   "id": "71b296f6",
   "metadata": {},
   "source": [
    "Step 1"
   ]
  },
  {
   "cell_type": "code",
   "execution_count": 12,
   "id": "2612eb14",
   "metadata": {},
   "outputs": [],
   "source": [
    "sift = cv2.xfeatures2d.SIFT_create()\n",
    "# find key points\n",
    "kp1, des1 = sift.detectAndCompute(img1,None)\n",
    "kp2, des2 = sift.detectAndCompute(img2,None)\n",
    "\n",
    "#cv2.imshow('1.jpg',cv2.drawKeypoints(img_,kp1,None))\n",
    "#cv2.waitKey(0)\n",
    "#cv2.destroyAllWindows()\n",
    "#cv2.waitKey(1)"
   ]
  },
  {
   "cell_type": "markdown",
   "id": "a89dd5b4",
   "metadata": {},
   "source": [
    "Step 2"
   ]
  },
  {
   "cell_type": "code",
   "execution_count": 13,
   "id": "99cff3d0",
   "metadata": {},
   "outputs": [],
   "source": [
    "FLANN_INDEX_KDTREE = 0\n",
    "index_params = dict(algorithm = FLANN_INDEX_KDTREE, trees = 5)\n",
    "search_params = dict(checks = 50)\n",
    "match = cv2.FlannBasedMatcher(index_params, search_params)\n",
    "#match = cv2.BFMatcher()\n",
    "matches = match.knnMatch(des1,des2,k=2)"
   ]
  },
  {
   "cell_type": "markdown",
   "id": "20e948a2",
   "metadata": {},
   "source": [
    "Step 3"
   ]
  },
  {
   "cell_type": "code",
   "execution_count": 14,
   "id": "f72248cd",
   "metadata": {},
   "outputs": [],
   "source": [
    "good = []\n",
    "for m,n in matches:\n",
    "    if m.distance < 0.8*n.distance:\n",
    "        good.append(m)\n",
    "        #print('yes')\n",
    "\n",
    "draw_params = dict(matchColor=(0,255,0),\n",
    "                       singlePointColor=None,\n",
    "                       flags=2)\n",
    "img3 = cv2.drawMatches(img_,kp1,img,kp2,good,None,**draw_params)\n",
    "#cv2.imshow(\"original_image_drawMatches.jpg\", img3)\n",
    "#cv2.waitKey(0)\n",
    "#cv2.destroyAllWindows()\n",
    "#cv2.waitKey(1)"
   ]
  },
  {
   "cell_type": "markdown",
   "id": "2f4d96e5",
   "metadata": {},
   "source": [
    "Step 4"
   ]
  },
  {
   "cell_type": "code",
   "execution_count": 15,
   "id": "bf1d70b0",
   "metadata": {},
   "outputs": [],
   "source": [
    "MIN_MATCH_COUNT = 10\n",
    "if len(good) > MIN_MATCH_COUNT:\n",
    "    src_pts = np.float32([ kp1[m.queryIdx].pt for m in good ]).reshape(-1,1,2)\n",
    "    dst_pts = np.float32([ kp2[m.trainIdx].pt for m in good ]).reshape(-1,1,2)\n",
    "\n",
    "    M, mask = cv2.findHomography(src_pts, dst_pts, cv2.RANSAC, 5.0)\n",
    "\n",
    "    h,w = img1.shape\n",
    "    pts = np.float32([ [0,0],[0,h-1],[w-1,h-1],[w-1,0] ]).reshape(-1,1,2)\n",
    "    dst = cv2.perspectiveTransform(pts, M)\n",
    "    img2 = cv2.polylines(img2,[np.int32(dst)],True,255,3, cv2.LINE_AA)\n",
    "    cv2.imshow(\"original_image_overlapping.jpg\", img2)\n",
    "    cv2.waitKey(0)\n",
    "    cv2.destroyAllWindows()\n",
    "    cv2.waitKey(1)\n",
    "else:\n",
    "    print (\"Not enough matches are found - %d/%d\" % (len(good),MIN_MATCH_COUNT))"
   ]
  },
  {
   "cell_type": "markdown",
   "id": "745cc52f",
   "metadata": {},
   "source": [
    "Step 5"
   ]
  },
  {
   "cell_type": "code",
   "execution_count": 16,
   "id": "b8554195",
   "metadata": {},
   "outputs": [
    {
     "data": {
      "text/plain": [
       "-1"
      ]
     },
     "execution_count": 16,
     "metadata": {},
     "output_type": "execute_result"
    }
   ],
   "source": [
    "dst = cv2.warpPerspective(img_,M,(img.shape[1] + img_.shape[1], img.shape[0]))\n",
    "dst[0:img.shape[0], 0:img.shape[1]] = img\n",
    "cv2.imshow(\"original_image_stitched.jpg\", dst)\n",
    "cv2.waitKey(0)\n",
    "cv2.destroyAllWindows()\n",
    "cv2.waitKey(1)"
   ]
  },
  {
   "cell_type": "markdown",
   "id": "d90b9464",
   "metadata": {},
   "source": [
    "Step 6"
   ]
  },
  {
   "cell_type": "code",
   "execution_count": 17,
   "id": "05735dd0",
   "metadata": {},
   "outputs": [
    {
     "data": {
      "text/plain": [
       "-1"
      ]
     },
     "execution_count": 17,
     "metadata": {},
     "output_type": "execute_result"
    }
   ],
   "source": [
    "def trim(frame):\n",
    "    #crop top\n",
    "    if not np.sum(frame[0]):\n",
    "        return trim(frame[1:])\n",
    "    #crop top\n",
    "    if not np.sum(frame[-1]):\n",
    "        return trim(frame[:-2])\n",
    "    #crop top\n",
    "    if not np.sum(frame[:,0]):\n",
    "        return trim(frame[:,1:])\n",
    "    #crop top\n",
    "    if not np.sum(frame[:,-1]):\n",
    "        return trim(frame[:,:-2])\n",
    "    return frame\n",
    "\n",
    "cv2.imshow(\"original_image_stitched_crop.jpg\", trim(dst))\n",
    "cv2.waitKey(0)\n",
    "cv2.destroyAllWindows()\n",
    "cv2.waitKey(1)\n",
    "#cv2.imsave(\"original_image_stitched_crop.jpg\", trim(dst))"
   ]
  },
  {
   "cell_type": "code",
   "execution_count": null,
   "id": "e8467687",
   "metadata": {},
   "outputs": [],
   "source": []
  },
  {
   "cell_type": "code",
   "execution_count": null,
   "id": "d52d454d",
   "metadata": {},
   "outputs": [],
   "source": []
  }
 ],
 "metadata": {
  "kernelspec": {
   "display_name": "Python 3 (ipykernel)",
   "language": "python",
   "name": "python3"
  },
  "language_info": {
   "codemirror_mode": {
    "name": "ipython",
    "version": 3
   },
   "file_extension": ".py",
   "mimetype": "text/x-python",
   "name": "python",
   "nbconvert_exporter": "python",
   "pygments_lexer": "ipython3",
   "version": "3.7.13"
  }
 },
 "nbformat": 4,
 "nbformat_minor": 5
}
